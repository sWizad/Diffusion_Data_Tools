{
 "cells": [
  {
   "cell_type": "markdown",
   "metadata": {},
   "source": [
    "## Pre Process\n"
   ]
  },
  {
   "cell_type": "code",
   "execution_count": null,
   "metadata": {},
   "outputs": [],
   "source": []
  },
  {
   "cell_type": "markdown",
   "metadata": {},
   "source": [
    "## Post Process\n"
   ]
  },
  {
   "cell_type": "markdown",
   "metadata": {},
   "source": [
    "#### init function"
   ]
  },
  {
   "cell_type": "code",
   "execution_count": 3,
   "metadata": {},
   "outputs": [],
   "source": [
    "import os, sys, random"
   ]
  },
  {
   "cell_type": "code",
   "execution_count": 1,
   "metadata": {},
   "outputs": [],
   "source": [
    "import subprocess\n",
    "from lib.library import delete_similar_image_in_subfolders, add_folder_name_to_files, rename_subfolders\n",
    "\n",
    "def tagging_image(working_folder):\n",
    "    command = [\n",
    "        r\"D:\\Project\\Code\\Diffusion_Data_Tools\\myenv\\Scripts\\accelerate.EXE\", \"launch\",\n",
    "        r\"D:\\Project\\Code\\Diffusion_Data_Tools\\lib\\tag_images_by_wd14_tagger.py\",\n",
    "        \"--batch_size\", \"1\",\n",
    "        \"--caption_extension\", \".txt\",\n",
    "        \"--caption_separator\", \",\",\n",
    "        \"--character_threshold\", \"0.5\",\n",
    "        \"--max_data_loader_n_workers\", \"2\",\n",
    "        \"--onnx\",\n",
    "        \"--recursive\",\n",
    "        \"--remove_underscore\",\n",
    "        \"--repo_id\", \"SmilingWolf/wd-v1-4-convnextv2-tagger-v2\",\n",
    "        working_folder,\n",
    "    ]\n",
    "\n",
    "    subprocess.run(command)\n"
   ]
  },
  {
   "cell_type": "markdown",
   "metadata": {},
   "source": []
  },
  {
   "cell_type": "markdown",
   "metadata": {},
   "source": [
    "#### main runner\n"
   ]
  },
  {
   "cell_type": "code",
   "execution_count": 2,
   "metadata": {},
   "outputs": [
    {
     "name": "stdout",
     "output_type": "stream",
     "text": [
      "Processing folder: 4_sprite\n",
      "                                                                                       100% |███████████████████| 17/17 [49.0ms elapsed, 0s remaining, 347.2 samples/s]     \n",
      "                                                                               100% |███████████████████| 17/17 [7.0s elapsed, 0s remaining, 2.4 samples/s] \n",
      "Initial image count: 17, Images retained: 17, Images deleted: 0\n",
      "Processing folder: mulan\n",
      "                                                                                       100% |███████████████████| 14/14 [50.2ms elapsed, 0s remaining, 278.7 samples/s]     \n",
      "                                                                                   100% |███████████████████| 14/14 [496.9ms elapsed, 0s remaining, 28.6 samples/s] \n",
      "Initial image count: 14, Images retained: 14, Images deleted: 0\n"
     ]
    }
   ],
   "source": [
    "working_folder = r'D:\\Project\\CivitAI\\Disney\\Princess\\Test\\draft'  \n",
    "\n",
    "delete_similar_image_in_subfolders(working_folder)\n",
    "tagging_image(working_folder)\n",
    "add_folder_name_to_files(working_folder, tag_dropping_rate = 0.3)\n",
    "rename_subfolders(working_folder)"
   ]
  },
  {
   "cell_type": "markdown",
   "metadata": {},
   "source": [
    "#### create prompt"
   ]
  },
  {
   "cell_type": "code",
   "execution_count": 14,
   "metadata": {},
   "outputs": [],
   "source": [
    "def get_text_files(directory):\n",
    "    text_files = []\n",
    "    for root, _, files in os.walk(directory):\n",
    "        for file in files:\n",
    "            if file.endswith(\".txt\"):\n",
    "                text_files.append(os.path.join(root, file))\n",
    "    return text_files\n",
    "\n",
    "def create_output_file(file_counter, out_path):\n",
    "    output_file = os.path.join(out_path, f'test_prompt_{file_counter}.txt')\n",
    "    open(output_file, 'w').close()\n",
    "    return output_file\n",
    "\n",
    "\n",
    "def process_file(txt_file, line_counter, file_counter, output_file, max_num_lines, suffix):\n",
    "    with open(txt_file, 'r') as infile:\n",
    "        for line in infile:\n",
    "            line_counter, file_counter, output_file = process_line(\n",
    "                line, line_counter, file_counter, output_file, max_num_lines, suffix\n",
    "            )\n",
    "    return line_counter, file_counter, output_file\n",
    "\n",
    "def process_subdir(sub_dir, line_counter, file_counter, output_file, max_num_lines, prompt_per_folder, suffix):\n",
    "    text_files = get_text_files(sub_dir)\n",
    "    if len(text_files) >= prompt_per_folder:\n",
    "        selected_files = random.sample(text_files, prompt_per_folder)\n",
    "        for txt_file in selected_files:\n",
    "            line_counter, file_counter, output_file = process_file(\n",
    "                txt_file, line_counter, file_counter, output_file, max_num_lines, suffix\n",
    "            )\n",
    "    return line_counter, file_counter, output_file\n",
    "\n",
    "def process_directory(directory, max_num_lines, prompt_per_folder=2, out_path=\"\", suffix=\"\"):\n",
    "    file_counter = 1\n",
    "    line_counter = 0\n",
    "    output_file = create_output_file(file_counter, out_path)\n",
    "\n",
    "    for root, dirs, _ in os.walk(directory):\n",
    "        for dir in dirs:\n",
    "            sub_dir = os.path.join(root, dir)\n",
    "            line_counter, file_counter, output_file = process_subdir(\n",
    "                sub_dir, line_counter, \n",
    "                file_counter, output_file, \n",
    "                max_num_lines, prompt_per_folder, \n",
    "                suffix\n",
    "            )\n",
    "\n",
    "def process_line(line, line_counter, file_counter, output_file, max_num_lines, suffix):\n",
    "    if line_counter >= max_num_lines:\n",
    "        file_counter += 1\n",
    "        line_counter = 0\n",
    "        output_file = create_output_file(file_counter, os.path.dirname(output_file))\n",
    "    with open(output_file, 'a') as outfile:\n",
    "        prompt = (\n",
    "            f'--prompt \"score_9, score_8_up, score_7_up, volumetric lighting, '\n",
    "            f'{line.strip()}, {suffix}\" '\n",
    "            '--negative_prompt \"score_6_up, score_5_up, score_4_up, '\n",
    "            'simple background, blurry, grayscale\"\\n'\n",
    "        )\n",
    "        outfile.write(prompt)\n",
    "    return line_counter + 1, file_counter, output_file"
   ]
  },
  {
   "cell_type": "code",
   "execution_count": 15,
   "metadata": {},
   "outputs": [],
   "source": [
    "\n",
    "working_folder = r'D:\\Project\\CivitAI\\DC\\batman\\draft'\n",
    "out_path = r'D:\\Project\\CivitAI\\DC\\batman\\sampling'\n",
    "suffix  = \"<lora:batman_pony_v1:0.9>\"\n",
    "max_num_lines = 12\n",
    "\n",
    "os.makedirs(out_path, exist_ok=True)\n",
    "process_directory(working_folder, max_num_lines, out_path = out_path, suffix=suffix)"
   ]
  }
 ],
 "metadata": {
  "kernelspec": {
   "display_name": "myenv",
   "language": "python",
   "name": "python3"
  },
  "language_info": {
   "codemirror_mode": {
    "name": "ipython",
    "version": 3
   },
   "file_extension": ".py",
   "mimetype": "text/x-python",
   "name": "python",
   "nbconvert_exporter": "python",
   "pygments_lexer": "ipython3",
   "version": "3.9.1"
  }
 },
 "nbformat": 4,
 "nbformat_minor": 2
}
